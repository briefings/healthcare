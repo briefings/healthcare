{
 "cells": [
  {
   "cell_type": "markdown",
   "metadata": {
    "id": "hLtthtP_sOea"
   },
   "source": [
    "## Preliminaries"
   ]
  },
  {
   "cell_type": "markdown",
   "metadata": {
    "id": "JScEY4D45yO1"
   },
   "source": [
    "<br>\r\n",
    "\r\n",
    "**Packages**"
   ]
  },
  {
   "cell_type": "code",
   "execution_count": null,
   "metadata": {},
   "outputs": [],
   "source": [
    "import subprocess"
   ]
  },
  {
   "cell_type": "code",
   "execution_count": null,
   "metadata": {},
   "outputs": [],
   "source": [
    "if 'google.colab' in str(get_ipython()):\n",
    "    subprocess.run('wget -q https://raw.githubusercontent.com/briefings/phe/develop/scripts.sh', \n",
    "                   shell=True)\n",
    "    subprocess.run('chmod u+x scripts.sh', shell=True)\n",
    "    subprocess.run('./scripts.sh', shell=True)"
   ]
  },
  {
   "cell_type": "markdown",
   "metadata": {},
   "source": [
    "<br>\n",
    "\n",
    "**Paths**"
   ]
  },
  {
   "cell_type": "code",
   "execution_count": null,
   "metadata": {},
   "outputs": [],
   "source": [
    "import os\n",
    "import pathlib\n",
    "import sys"
   ]
  },
  {
   "cell_type": "code",
   "execution_count": null,
   "metadata": {},
   "outputs": [],
   "source": [
    "if not 'google.colab' in str(get_ipython()):\n",
    "    \n",
    "    notebooks = os.getcwd()\n",
    "    parent = str(pathlib.Path(notebooks).parent)\n",
    "    sys.path.append(parent)\n",
    "    "
   ]
  },
  {
   "cell_type": "markdown",
   "metadata": {
    "id": "_nW7KRQIsT97"
   },
   "source": [
    "<br>\r\n",
    "\r\n",
    "**Libraries**"
   ]
  },
  {
   "cell_type": "code",
   "execution_count": null,
   "metadata": {
    "id": "I5sO-J26sLJn"
   },
   "outputs": [],
   "source": [
    "%matplotlib inline\r\n",
    "\r\n",
    "import pandas as pd\r\n",
    "import numpy as np\r\n",
    "\r\n",
    "import dask\r\n",
    "import datetime\r\n",
    "\r\n",
    "import matplotlib.pyplot as plt\r\n",
    "import seaborn as sns\r\n",
    "\r\n",
    "import logging\r",
    "on\r\n",
    "import os\r\n",
    "import glob\r\n",
    "import requests\r\n",
    "import collections"
   ]
  },
  {
   "cell_type": "markdown",
   "metadata": {
    "id": "I3O4cR4xszNW"
   },
   "source": [
    "<br>\r\n",
    "\r\n",
    "**Layout**"
   ]
  },
  {
   "cell_type": "code",
   "execution_count": null,
   "metadata": {
    "id": "aA3hFhVtsw-P"
   },
   "outputs": [],
   "source": [
    "sns.set_style(\"darkgrid\")\r\n",
    "sns.set_context(\"poster\")\r\n",
    "sns.set(font_scale=1)"
   ]
  },
  {
   "cell_type": "markdown",
   "metadata": {
    "id": "QhYDciZq9wfv"
   },
   "source": [
    "<br>\r\n",
    "\r\n",
    "**Logging**"
   ]
  },
  {
   "cell_type": "code",
   "execution_count": null,
   "metadata": {
    "id": "l45NeXRc9Es0"
   },
   "outputs": [],
   "source": [
    "logging.basicConfig(level=logging.INFO)\r\n",
    "logger = logging.getLogger(__name__)"
   ]
  },
  {
   "cell_type": "markdown",
   "metadata": {
    "id": "ueO8V01danZi"
   },
   "source": [
    "<br>\r\n",
    "<br>\r\n",
    "\r\n",
    "## Data"
   ]
  },
  {
   "cell_type": "markdown",
   "metadata": {
    "id": "mLTA6mWgatL4"
   },
   "source": [
    "URL\r\n",
    "\r\n",
    "* 'https://www.england.nhs.uk/statistics/wp-content/uploads/sites/2/2020/12/Covid-Publication-10-12-2020.xlsx'\r\n",
    "* 'https://www.england.nhs.uk/statistics/wp-content/uploads/sites/2/2021/01/Covid-Publication-14-01-2021.xlsx'\r\n"
   ]
  },
  {
   "cell_type": "code",
   "execution_count": null,
   "metadata": {
    "id": "kY04x_qdtjzs"
   },
   "outputs": [],
   "source": [
    "url = 'https://www.england.nhs.uk/statistics/wp-content/uploads/sites/2/2021/01/Covid-Publication-14-01-2021.xlsx'"
   ]
  },
  {
   "cell_type": "markdown",
   "metadata": {
    "id": "sFmoczUj0Q31"
   },
   "source": [
    "<br>\r\n",
    "<br>\r\n",
    "\r\n",
    "### Cases"
   ]
  },
  {
   "cell_type": "code",
   "execution_count": null,
   "metadata": {
    "id": "HsvW3cH3ZTmW"
   },
   "outputs": [],
   "source": [
    "import phe.cases.admissionstotal"
   ]
  },
  {
   "cell_type": "code",
   "execution_count": null,
   "metadata": {
    "id": "lwFLX2twZX2T"
   },
   "outputs": [],
   "source": [
    "sample, institutions, notes = phe.cases.admissionstotal.AdmissionsTotal(url=url).exc()"
   ]
  },
  {
   "cell_type": "code",
   "execution_count": null,
   "metadata": {
    "colab": {
     "base_uri": "https://localhost:8080/"
    },
    "id": "sRnHCOMVeFbW",
    "outputId": "0162f183-a264-4266-ad22-4056af2735ec"
   },
   "outputs": [],
   "source": [
    "logger.info(sample.info())"
   ]
  },
  {
   "cell_type": "code",
   "execution_count": null,
   "metadata": {
    "colab": {
     "base_uri": "https://localhost:8080/"
    },
    "id": "qEWUZ6Fwd11g",
    "outputId": "bcc43d1f-f065-4eb0-cfc5-f57ef5e4ab08"
   },
   "outputs": [],
   "source": [
    "logger.info(institutions.info())"
   ]
  },
  {
   "cell_type": "code",
   "execution_count": null,
   "metadata": {
    "colab": {
     "base_uri": "https://localhost:8080/"
    },
    "id": "ki4NbzTjeiFl",
    "outputId": "ce555991-83be-40d8-8fd2-0497d1234100"
   },
   "outputs": [],
   "source": [
    "logger.info(notes)"
   ]
  },
  {
   "cell_type": "markdown",
   "metadata": {
    "id": "fXtKKWJF9M-0"
   },
   "source": [
    "<br>\r\n",
    "<br>\r\n",
    "\r\n",
    "## Architecture"
   ]
  },
  {
   "cell_type": "markdown",
   "metadata": {
    "id": "5wpkd-F-b0Mf"
   },
   "source": [
    "### Functions"
   ]
  },
  {
   "cell_type": "markdown",
   "metadata": {
    "id": "_qhdgfhf99W-"
   },
   "source": [
    "**Epoch**"
   ]
  },
  {
   "cell_type": "code",
   "execution_count": null,
   "metadata": {
    "id": "u7MeVXEKk-zw"
   },
   "outputs": [],
   "source": [
    "def epoch(series: pd.Series):\r\n",
    "    \"\"\"\r\n",
    "\r\n",
    "    Either\r\n",
    "    (series - pd.Timestamp('1970-01-01')) // pd.Timedelta('1ms') \r\n",
    "      -> floor divide by unit\r\n",
    "    (series.astype(np.int64) / (10 ** 6)).astype(np.longlong) \r\n",
    "      -> explicitly converting nanoseconds to milliseconds\r\n",
    "    \r\n",
    "    :param series: The series that will beconverted to epoch time (milliseconds)\r\n",
    "    \"\"\"   \r\n",
    "\r\n",
    "    return (series.astype(np.int64) / (10 ** 6)).astype(np.longlong)\r\n",
    "    "
   ]
  },
  {
   "cell_type": "markdown",
   "metadata": {
    "id": "7oq6iMLMfeLo"
   },
   "source": [
    "<br>\r\n",
    "\r\n",
    "### Structuring"
   ]
  },
  {
   "cell_type": "code",
   "execution_count": null,
   "metadata": {
    "id": "mYq0qiu3Dl7M"
   },
   "outputs": [],
   "source": [
    "Attributes = collections.namedtuple(typename='Attributes', field_names=['names'])\r\n",
    "attributes = Attributes._make([['date', 'epoch']])"
   ]
  },
  {
   "cell_type": "markdown",
   "metadata": {
    "id": "F6qttmP3-K7t"
   },
   "source": [
    "<br>\r\n",
    "\r\n",
    "**Wide**"
   ]
  },
  {
   "cell_type": "markdown",
   "metadata": {
    "id": "CudwIIc_bwBV"
   },
   "source": [
    "Via a pivot function, each institution's data series is assigned to a distinct column, i.e., a **reverse wide format**.  Subsequently, **datetime formatting & epoch calculations**."
   ]
  },
  {
   "cell_type": "code",
   "execution_count": null,
   "metadata": {
    "colab": {
     "base_uri": "https://localhost:8080/"
    },
    "id": "pHoLLFs9Q7Yv",
    "outputId": "47b76019-72a4-4bdb-ddac-fd7b5152b99a"
   },
   "outputs": [],
   "source": [
    "wide = sample.pivot_table(columns=['code'], \r\n",
    "                         values=sample.columns.drop(labels=['code']))\r\n",
    "\r\n",
    "wide.reset_index(drop=False, inplace=True)\r\n",
    "wide.rename(columns={'index': 'date'}, inplace=True)"
   ]
  },
  {
   "cell_type": "code",
   "execution_count": null,
   "metadata": {
    "id": "lLA_G67zeoE5"
   },
   "outputs": [],
   "source": [
    "wide.loc[:, 'date'] = pd.to_datetime(wide['date'])\r\n",
    "wide.loc[:, 'epoch'] = epoch(wide['date'])"
   ]
  },
  {
   "cell_type": "markdown",
   "metadata": {
    "id": "L-yX6Un7-Ok0"
   },
   "source": [
    "<br>\r\n",
    "\r\n",
    "**Narrow**"
   ]
  },
  {
   "cell_type": "code",
   "execution_count": null,
   "metadata": {
    "id": "tOIxTs3Y4bSa"
   },
   "outputs": [],
   "source": [
    "narrow = wide.drop(columns=['epoch']).melt(id_vars=['date'], \r\n",
    "                                                 var_name='code', value_name='admissions')\r\n"
   ]
  },
  {
   "cell_type": "markdown",
   "metadata": {
    "id": "uQxSsOIy8JqK"
   },
   "source": [
    "<br>\r\n",
    "\r\n",
    "**Inspect**"
   ]
  },
  {
   "cell_type": "markdown",
   "metadata": {
    "id": "f-sBHmZx-9nQ"
   },
   "source": [
    "In this context the dimension attributes are `date` & `epoch`, therefore these are the fields that will be excluded from calculation procedures."
   ]
  },
  {
   "cell_type": "code",
   "execution_count": null,
   "metadata": {
    "colab": {
     "base_uri": "https://localhost:8080/"
    },
    "id": "EC3lG9yY8QdN",
    "outputId": "fd340e86-9b6b-4e45-c2dd-4a90ada64cff"
   },
   "outputs": [],
   "source": [
    "expected = wide.shape[0] * (wide.shape[1] - len(attributes.names))\r\n",
    "assert narrow.shape[0] == expected\r\n",
    "\r\n",
    "logger.info('The expected number of value cells: {:,}'.format(expected))"
   ]
  },
  {
   "cell_type": "markdown",
   "metadata": {
    "id": "MCN8xfc1bWlb"
   },
   "source": [
    "<br>\r\n",
    "<br>\r\n",
    "\r\n",
    "## Graphing"
   ]
  },
  {
   "cell_type": "code",
   "execution_count": null,
   "metadata": {
    "colab": {
     "base_uri": "https://localhost:8080/"
    },
    "id": "2RCqKAtZDbIU",
    "outputId": "39b635ba-fe92-4677-8cfe-600498f0707e"
   },
   "outputs": [],
   "source": [
    "logger.info(  '\\n{}\\n\\n'.format(wide.head().iloc[:, list(np.arange(5)) + [-1]])  )"
   ]
  },
  {
   "cell_type": "code",
   "execution_count": null,
   "metadata": {
    "colab": {
     "base_uri": "https://localhost:8080/"
    },
    "id": "d2CynDW2GCFR",
    "outputId": "0a8a7861-c184-4db6-fcc8-9405cad3fd91"
   },
   "outputs": [],
   "source": [
    "logger.info( '\\n{}\\n\\n'.format(narrow.head()) )"
   ]
  },
  {
   "cell_type": "markdown",
   "metadata": {
    "id": "oN2OAAOs4QFk"
   },
   "source": [
    "<br>\r\n",
    "\r\n",
    "### Case: HighCharts"
   ]
  },
  {
   "cell_type": "code",
   "execution_count": null,
   "metadata": {
    "id": "AXvcjRWDjpMC"
   },
   "outputs": [],
   "source": [
    "import phe.highcharts.graphseries"
   ]
  },
  {
   "cell_type": "markdown",
   "metadata": {
    "id": "IR1-sZjiq3-9"
   },
   "source": [
    "Path"
   ]
  },
  {
   "cell_type": "code",
   "execution_count": null,
   "metadata": {
    "id": "Q2Xoa2Lvt0NK"
   },
   "outputs": [],
   "source": [
    "path_highcharts = os.path.join(os.getcwd(), 'data', 'highcharts')\r\n",
    "\r\n",
    "if not os.path.exists(path_highcharts):\r\n",
    "    os.makedirs(path_highcharts)"
   ]
  },
  {
   "cell_type": "markdown",
   "metadata": {
    "id": "90B2nmA0xh1O"
   },
   "source": [
    "<br>\r\n",
    "\r\n",
    "**JSON**"
   ]
  },
  {
   "cell_type": "code",
   "execution_count": null,
   "metadata": {
    "id": "PW9W5nUW3NCN"
   },
   "outputs": [],
   "source": [
    "phe.highcharts.graphseries.GraphSeries(blob=wide, institutions=institutions, \r\n",
    "                                       path=path_highcharts).exc()"
   ]
  },
  {
   "cell_type": "markdown",
   "metadata": {
    "id": "taY9TRft4UoN"
   },
   "source": [
    "<br>\r\n",
    "<br>\r\n",
    "\r\n",
    "### Case: Tableau"
   ]
  },
  {
   "cell_type": "code",
   "execution_count": null,
   "metadata": {
    "id": "ByXdPswRWivE"
   },
   "outputs": [],
   "source": [
    "import phe.tableau.graphseries"
   ]
  },
  {
   "cell_type": "markdown",
   "metadata": {
    "id": "9FsiKVQvTm_I"
   },
   "source": [
    "Path"
   ]
  },
  {
   "cell_type": "code",
   "execution_count": null,
   "metadata": {
    "id": "-iDyDu_cToY5"
   },
   "outputs": [],
   "source": [
    "path_tableau = os.path.join(os.getcwd(), 'data', 'tableau')\r\n",
    "\r\n",
    "if not os.path.exists(path_tableau):\r\n",
    "    os.makedirs(path_tableau)"
   ]
  },
  {
   "cell_type": "markdown",
   "metadata": {
    "id": "Ei087_b_TdPY"
   },
   "source": [
    "<br>\r\n",
    "\r\n",
    "**JSON**"
   ]
  },
  {
   "cell_type": "code",
   "execution_count": null,
   "metadata": {
    "id": "opwCR2TuWtaX"
   },
   "outputs": [],
   "source": [
    "phe.tableau.graphseries.GraphSeries(blob=wide, institutions=institutions, \r\n",
    "                                    path=path_tableau).exc()"
   ]
  },
  {
   "cell_type": "code",
   "execution_count": null,
   "metadata": {
    "id": "pG7xl2hdIoqZ"
   },
   "outputs": [],
   "source": [
    "institutions.set_index(keys='code').to_json(\r\n",
    "    path_or_buf=os.path.join(path_tableau, 'institutions.json'), orient='index')"
   ]
  },
  {
   "cell_type": "markdown",
   "metadata": {
    "id": "LmAbXf2qTV47"
   },
   "source": [
    "<br>\r\n",
    "\r\n",
    "**CSV**"
   ]
  },
  {
   "cell_type": "code",
   "execution_count": null,
   "metadata": {
    "id": "zgMDR5OWCO7M"
   },
   "outputs": [],
   "source": [
    "narrow.to_csv(path_or_buf=os.path.join(path_tableau, 'admissions.csv'),\r\n",
    "              header=True, index=False, encoding='UTF-8')\r\n",
    "\r\n",
    "institutions.to_csv(path_or_buf=os.path.join(path_tableau, 'institutions.csv'), \r\n",
    "                                             header=True, index=False, encoding='UTF-8')"
   ]
  },
  {
   "cell_type": "markdown",
   "metadata": {
    "id": "WG3Yq8ufTCtQ"
   },
   "source": [
    "<br>\r\n",
    "<br>\r\n",
    "\r\n",
    "## Zip"
   ]
  },
  {
   "cell_type": "raw",
   "metadata": {
    "id": "M13hb5SYTGkm"
   },
   "source": [
    "%%bash\r\n",
    "\r\n",
    "rm -rf highcharts.zip\r\n",
    "zip --junk-paths --recurse-paths highcharts.zip data/highcharts/ &> highcharts.log\r\n",
    "\r\n",
    "rm -rf tableau.zip\r\n",
    "zip --junk-paths --recurse-paths tableau.zip data/tableau/ &> tableau.log\r\n"
   ]
  },
  {
   "cell_type": "raw",
   "metadata": {
    "id": "TTv-Za33XLxY"
   },
   "source": [
    "%%bash\r\n",
    "\r\n",
    "rm -rf phe/*/*pycache* && rm -rf phe/*pycache*\r\n",
    "rm -rf phe/*/.ipynb_checkpoints && rm -rf phe/.ipynb_checkpoints\r\n",
    "rm -rf phe.zip\r\n",
    "\r\n",
    "zip --recurse-paths phe.zip phe/ &> phe.log"
   ]
  }
 ],
 "metadata": {
  "colab": {
   "collapsed_sections": [],
   "name": "phe.ipynb",
   "provenance": [],
   "toc_visible": true
  },
  "kernelspec": {
   "display_name": "Python 3",
   "language": "python",
   "name": "python3"
  },
  "language_info": {
   "codemirror_mode": {
    "name": "ipython",
    "version": 3
   },
   "file_extension": ".py",
   "mimetype": "text/x-python",
   "name": "python",
   "nbconvert_exporter": "python",
   "pygments_lexer": "ipython3",
   "version": "3.7.9"
  }
 },
 "nbformat": 4,
 "nbformat_minor": 4
}
