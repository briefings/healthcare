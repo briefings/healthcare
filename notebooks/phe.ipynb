{
 "cells": [
  {
   "cell_type": "markdown",
   "metadata": {
    "id": "hLtthtP_sOea"
   },
   "source": [
    "## Preliminaries"
   ]
  },
  {
   "cell_type": "markdown",
   "metadata": {
    "id": "JScEY4D45yO1"
   },
   "source": [
    "**Packages**"
   ]
  },
  {
   "cell_type": "code",
   "execution_count": 1,
   "metadata": {
    "id": "c6NtYQo7s4Cl"
   },
   "outputs": [],
   "source": [
    "import subprocess"
   ]
  },
  {
   "cell_type": "code",
   "execution_count": 2,
   "metadata": {
    "id": "TilnNgz2s-Ol"
   },
   "outputs": [],
   "source": [
    "if 'google.colab' in str(get_ipython()):\r\n",
    "    subprocess.run('rm -rf *scripts*', shell=True)\r\n",
    "    subprocess.run('wget -q https://raw.githubusercontent.com/briefings/phe/develop/scripts.sh', \r\n",
    "                   shell=True)\r\n",
    "    subprocess.run('chmod u+x scripts.sh', shell=True)\r\n",
    "    subprocess.run('./scripts.sh', shell=True)"
   ]
  },
  {
   "cell_type": "markdown",
   "metadata": {
    "id": "obULpUD486Ui"
   },
   "source": [
    "<br>\r\n",
    "\r\n",
    "**Paths**"
   ]
  },
  {
   "cell_type": "code",
   "execution_count": 3,
   "metadata": {
    "id": "eCH_DOPA89Lg"
   },
   "outputs": [],
   "source": [
    "import os\r\n",
    "import pathlib\r\n",
    "import sys"
   ]
  },
  {
   "cell_type": "code",
   "execution_count": 4,
   "metadata": {
    "id": "5BxsxKai8_tl"
   },
   "outputs": [],
   "source": [
    "if not 'google.colab' in str(get_ipython()):\r\n",
    "    \r\n",
    "    notebooks = os.getcwd()\r\n",
    "    parent = str(pathlib.Path(notebooks).parent)\r\n",
    "    sys.path.append(parent)\r\n"
   ]
  },
  {
   "cell_type": "markdown",
   "metadata": {
    "id": "_nW7KRQIsT97"
   },
   "source": [
    "<br>\r\n",
    "\r\n",
    "**Libraries**"
   ]
  },
  {
   "cell_type": "code",
   "execution_count": 5,
   "metadata": {
    "id": "I5sO-J26sLJn"
   },
   "outputs": [],
   "source": [
    "%matplotlib inline\r\n",
    "\r\n",
    "import matplotlib.pyplot as plt\r\n",
    "import seaborn as sns\r\n",
    "\r\n",
    "import logging"
   ]
  },
  {
   "cell_type": "markdown",
   "metadata": {
    "id": "I3O4cR4xszNW"
   },
   "source": [
    "<br>\r\n",
    "\r\n",
    "**Layout**"
   ]
  },
  {
   "cell_type": "code",
   "execution_count": 6,
   "metadata": {
    "id": "aA3hFhVtsw-P"
   },
   "outputs": [],
   "source": [
    "sns.set_style(\"darkgrid\")\r\n",
    "sns.set_context(\"poster\")\r\n",
    "sns.set(font_scale=1)"
   ]
  },
  {
   "cell_type": "markdown",
   "metadata": {
    "id": "QhYDciZq9wfv"
   },
   "source": [
    "<br>\r\n",
    "\r\n",
    "**Logging**"
   ]
  },
  {
   "cell_type": "code",
   "execution_count": 7,
   "metadata": {
    "id": "l45NeXRc9Es0"
   },
   "outputs": [],
   "source": [
    "logging.basicConfig(level=logging.INFO)\r\n",
    "logger = logging.getLogger(__name__)"
   ]
  },
  {
   "cell_type": "markdown",
   "metadata": {
    "id": "xN4qm1flX8Fq"
   },
   "source": [
    "<br>\r\n",
    "<br>\r\n",
    "\r\n",
    "**Special**"
   ]
  },
  {
   "cell_type": "code",
   "execution_count": 8,
   "metadata": {
    "id": "4hK92ozrXolg"
   },
   "outputs": [],
   "source": [
    "import phe.cases.interface\r\n",
    "import phe.baselines.formatting\r\n",
    "import phe.algorithms.directories\r\n",
    "\r\n",
    "import phe.highcharts.graphseries\r\n",
    "import phe.tableau.graphseries\r\n",
    "\r\n",
    "import config\r\n",
    "configurations = config.Config()"
   ]
  },
  {
   "cell_type": "markdown",
   "metadata": {
    "id": "FonDUAuwWVjd"
   },
   "source": [
    "<br>\r\n",
    "<br>\r\n",
    "\r\n",
    "## Alternative"
   ]
  },
  {
   "cell_type": "code",
   "execution_count": 9,
   "metadata": {
    "id": "wArgvAVDdBhl"
   },
   "outputs": [],
   "source": [
    "# Clean-up\r\n",
    "phe.algorithms.directories.Directories().exc()"
   ]
  },
  {
   "cell_type": "code",
   "execution_count": 10,
   "metadata": {
    "colab": {
     "base_uri": "https://localhost:8080/"
    },
    "id": "M1Z4XKtHWcO-",
    "outputId": "bcf3f3e5-c02c-4809-a3c3-c3b8c7e12527"
   },
   "outputs": [
    {
     "name": "stderr",
     "output_type": "stream",
     "text": [
      "INFO:__main__:Analysing: 'admissionstotal'\n",
      "\n",
      "INFO:numexpr.utils:NumExpr defaulting to 2 threads.\n",
      "INFO:__main__:Analysing: 'admissions85'\n",
      "\n"
     ]
    }
   ],
   "source": [
    "# Get the data, and structure it for graphing\r\n",
    "interface = phe.cases.interface.Interface()\r\n",
    "\r\n",
    "for tab in ['admissionstotal', 'admissions85']:\r\n",
    "\r\n",
    "    logger.info('Analysing: \\'{}\\'\\n'.format(tab))\r\n",
    "\r\n",
    "    # Retrieving\r\n",
    "    series, institutions, notes = interface.exc(tab=tab)\r\n",
    "\r\n",
    "    # Structuring\r\n",
    "    wide, narrow = phe.baselines.formatting.Formatting().exc(blob=series)\r\n",
    "    \r\n",
    "    # Finally, graphing data ...\r\n",
    "    # Note: phe.highcharts.graphseries involves parallel processing\r\n",
    "    path = os.path.join(configurations.warehouse, tab)\r\n",
    "    phe.tableau.graphseries.GraphSeries(blob=narrow, institutions=institutions, path=path).exc()\r\n",
    "    phe.highcharts.graphseries.GraphSeries(blob=wide, institutions=institutions, path=path).exc()"
   ]
  },
  {
   "cell_type": "markdown",
   "metadata": {
    "id": "WG3Yq8ufTCtQ"
   },
   "source": [
    "<br>\r\n",
    "<br>\r\n",
    "\r\n",
    "## Zip"
   ]
  },
  {
   "cell_type": "code",
   "execution_count": 11,
   "metadata": {
    "id": "M13hb5SYTGkm"
   },
   "outputs": [],
   "source": [
    "%%bash\r\n",
    "\r\n",
    "path=archives\r\n",
    "rm -rf $path\r\n",
    "mkdir $path\r\n",
    "\r\n",
    "# Sections that will be archived\r\n",
    "Array=('admissionstotal' 'admissions85')\r\n",
    "\r\n",
    "# Start\r\n",
    "echo \"starting ...\" &> zip.log\r\n",
    "\r\n",
    "for focus in ${Array[*]}\r\n",
    "do\r\n",
    "echo ${focus} &>> zip.log\r\n",
    "zip --junk-paths --recurse-paths ${path}/${focus}.zip warehouse/${focus}/ &>> zip.log\r\n",
    "echo -e '\\n' &>> zip.log\r\n",
    "done\r\n"
   ]
  }
 ],
 "metadata": {
  "colab": {
   "collapsed_sections": [],
   "name": "phe.ipynb",
   "provenance": [],
   "toc_visible": true
  },
  "kernelspec": {
   "display_name": "Python 3",
   "language": "python",
   "name": "python3"
  },
  "language_info": {
   "codemirror_mode": {
    "name": "ipython",
    "version": 3
   },
   "file_extension": ".py",
   "mimetype": "text/x-python",
   "name": "python",
   "nbconvert_exporter": "python",
   "pygments_lexer": "ipython3",
   "version": "3.7.9"
  }
 },
 "nbformat": 4,
 "nbformat_minor": 4
}
