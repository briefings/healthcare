{
  "nbformat": 4,
  "nbformat_minor": 0,
  "metadata": {
    "colab": {
      "name": "phe.ipynb",
      "provenance": [],
      "collapsed_sections": [],
      "toc_visible": true
    },
    "kernelspec": {
      "name": "python3",
      "display_name": "Python 3"
    }
  },
  "cells": [
    {
      "cell_type": "markdown",
      "metadata": {
        "id": "hLtthtP_sOea"
      },
      "source": [
        "## Preliminaries"
      ]
    },
    {
      "cell_type": "markdown",
      "metadata": {
        "id": "JScEY4D45yO1"
      },
      "source": [
        "**Packages**"
      ]
    },
    {
      "cell_type": "code",
      "metadata": {
        "id": "c6NtYQo7s4Cl"
      },
      "source": [
        "import subprocess"
      ],
      "execution_count": 1,
      "outputs": []
    },
    {
      "cell_type": "code",
      "metadata": {
        "id": "TilnNgz2s-Ol"
      },
      "source": [
        "if 'google.colab' in str(get_ipython()):\r\n",
        "    subprocess.run('rm -rf *scripts*', shell=True)\r\n",
        "    subprocess.run('wget -q https://raw.githubusercontent.com/briefings/phe/develop/scripts.sh', \r\n",
        "                   shell=True)\r\n",
        "    subprocess.run('chmod u+x scripts.sh', shell=True)\r\n",
        "    subprocess.run('./scripts.sh', shell=True)"
      ],
      "execution_count": 2,
      "outputs": []
    },
    {
      "cell_type": "markdown",
      "metadata": {
        "id": "obULpUD486Ui"
      },
      "source": [
        "<br>\r\n",
        "\r\n",
        "**Paths**"
      ]
    },
    {
      "cell_type": "code",
      "metadata": {
        "id": "eCH_DOPA89Lg"
      },
      "source": [
        "import os\r\n",
        "import pathlib\r\n",
        "import sys"
      ],
      "execution_count": 3,
      "outputs": []
    },
    {
      "cell_type": "code",
      "metadata": {
        "id": "5BxsxKai8_tl"
      },
      "source": [
        "if not 'google.colab' in str(get_ipython()):\r\n",
        "    \r\n",
        "    notebooks = os.getcwd()\r\n",
        "    parent = str(pathlib.Path(notebooks).parent)\r\n",
        "    sys.path.append(parent)\r\n"
      ],
      "execution_count": 4,
      "outputs": []
    },
    {
      "cell_type": "markdown",
      "metadata": {
        "id": "_nW7KRQIsT97"
      },
      "source": [
        "<br>\r\n",
        "\r\n",
        "**Libraries**"
      ]
    },
    {
      "cell_type": "code",
      "metadata": {
        "id": "I5sO-J26sLJn"
      },
      "source": [
        "%matplotlib inline\r\n",
        "\r\n",
        "import matplotlib.pyplot as plt\r\n",
        "import seaborn as sns\r\n",
        "\r\n",
        "import logging"
      ],
      "execution_count": 5,
      "outputs": []
    },
    {
      "cell_type": "markdown",
      "metadata": {
        "id": "I3O4cR4xszNW"
      },
      "source": [
        "<br>\r\n",
        "\r\n",
        "**Layout**"
      ]
    },
    {
      "cell_type": "code",
      "metadata": {
        "id": "aA3hFhVtsw-P"
      },
      "source": [
        "sns.set_style(\"darkgrid\")\r\n",
        "sns.set_context(\"poster\")\r\n",
        "sns.set(font_scale=1)"
      ],
      "execution_count": 6,
      "outputs": []
    },
    {
      "cell_type": "markdown",
      "metadata": {
        "id": "QhYDciZq9wfv"
      },
      "source": [
        "<br>\r\n",
        "\r\n",
        "**Logging**"
      ]
    },
    {
      "cell_type": "code",
      "metadata": {
        "id": "l45NeXRc9Es0"
      },
      "source": [
        "logging.basicConfig(level=logging.INFO)\r\n",
        "logger = logging.getLogger(__name__)"
      ],
      "execution_count": 7,
      "outputs": []
    },
    {
      "cell_type": "markdown",
      "metadata": {
        "id": "xN4qm1flX8Fq"
      },
      "source": [
        "<br>\r\n",
        "<br>\r\n",
        "\r\n",
        "**Special**"
      ]
    },
    {
      "cell_type": "code",
      "metadata": {
        "id": "4hK92ozrXolg"
      },
      "source": [
        "import phe.cases.interface\r\n",
        "import phe.baselines.formatting\r\n",
        "\r\n",
        "import phe.algorithms.unload\r\n",
        "import phe.algorithms.directories\r\n",
        "\r\n",
        "import phe.highcharts.graphseries\r\n",
        "import phe.tableau.graphseries\r\n",
        "\r\n",
        "import config\r\n",
        "configurations = config.Config()"
      ],
      "execution_count": 8,
      "outputs": []
    },
    {
      "cell_type": "markdown",
      "metadata": {
        "id": "FonDUAuwWVjd"
      },
      "source": [
        "<br>\r\n",
        "<br>\r\n",
        "\r\n",
        "## Alternative"
      ]
    },
    {
      "cell_type": "code",
      "metadata": {
        "colab": {
          "base_uri": "https://localhost:8080/"
        },
        "id": "n3e9YgAsw_Sz",
        "outputId": "ca5e5809-746f-4086-b897-7e06fbccdf8b"
      },
      "source": [
        "# Unload data\r\n",
        "logger.info(' {}\\n'.format('Unloading data ...'))\r\n",
        "phe.algorithms.unload.Unload().exc()"
      ],
      "execution_count": 9,
      "outputs": [
        {
          "output_type": "stream",
          "text": [
            "INFO:__main__: Unloading data ...\n",
            "\n"
          ],
          "name": "stderr"
        }
      ]
    },
    {
      "cell_type": "code",
      "metadata": {
        "id": "wArgvAVDdBhl",
        "colab": {
          "base_uri": "https://localhost:8080/"
        },
        "outputId": "93da6569-81ee-4c62-d94a-580117c49fb0"
      },
      "source": [
        "# Clean-up\r\n",
        "logger.info(' {}\\n'.format('Preparing warehouse ...'))\r\n",
        "phe.algorithms.directories.Directories().exc()"
      ],
      "execution_count": 10,
      "outputs": [
        {
          "output_type": "stream",
          "text": [
            "INFO:__main__: Preparing warehouse ...\n",
            "\n"
          ],
          "name": "stderr"
        }
      ]
    },
    {
      "cell_type": "code",
      "metadata": {
        "id": "M1Z4XKtHWcO-",
        "colab": {
          "base_uri": "https://localhost:8080/"
        },
        "outputId": "49fdf883-5f73-478c-9e02-2adc44ef9530"
      },
      "source": [
        "# Get the data, and structure it for graphing\r\n",
        "interface = phe.cases.interface.Interface()\r\n",
        "\r\n",
        "for tab in ['admissionstotal', 'admissions85', 'mvbeds', 'mvbedscovid', 'totalbeds', 'totalbedscovid']:\r\n",
        "\r\n",
        "    print('\\n', flush=True)\r\n",
        "    logger.info(' Analysing -> \\'{}\\'\\n'.format(tab))\r\n",
        "\r\n",
        "    # Retrieving\r\n",
        "    series, institutions, notes = interface.exc(tab=tab)\r\n",
        "\r\n",
        "    # Structuring\r\n",
        "    wide, narrow = phe.baselines.formatting.Formatting().exc(blob=series)\r\n",
        "    \r\n",
        "    # Finally, graphing data ...\r\n",
        "    # Note: phe.highcharts.graphseries involves parallel processing\r\n",
        "    path = os.path.join(configurations.warehouse, tab)\r\n",
        "    phe.tableau.graphseries.GraphSeries(blob=narrow, institutions=institutions, path=path).exc()\r\n",
        "    phe.highcharts.graphseries.GraphSeries(blob=wide, institutions=institutions, path=path).exc()"
      ],
      "execution_count": 11,
      "outputs": [
        {
          "output_type": "stream",
          "text": [
            "\n",
            "\n"
          ],
          "name": "stdout"
        },
        {
          "output_type": "stream",
          "text": [
            "INFO:__main__: Analysing -> 'admissionstotal'\n",
            "\n",
            "INFO:numexpr.utils:NumExpr defaulting to 2 threads.\n"
          ],
          "name": "stderr"
        },
        {
          "output_type": "stream",
          "text": [
            "\n",
            "\n"
          ],
          "name": "stdout"
        },
        {
          "output_type": "stream",
          "text": [
            "INFO:__main__: Analysing -> 'admissions85'\n",
            "\n"
          ],
          "name": "stderr"
        },
        {
          "output_type": "stream",
          "text": [
            "\n",
            "\n"
          ],
          "name": "stdout"
        },
        {
          "output_type": "stream",
          "text": [
            "INFO:__main__: Analysing -> 'mvbeds'\n",
            "\n"
          ],
          "name": "stderr"
        },
        {
          "output_type": "stream",
          "text": [
            "\n",
            "\n"
          ],
          "name": "stdout"
        },
        {
          "output_type": "stream",
          "text": [
            "INFO:__main__: Analysing -> 'mvbedscovid'\n",
            "\n"
          ],
          "name": "stderr"
        },
        {
          "output_type": "stream",
          "text": [
            "\n",
            "\n"
          ],
          "name": "stdout"
        },
        {
          "output_type": "stream",
          "text": [
            "INFO:__main__: Analysing -> 'totalbeds'\n",
            "\n"
          ],
          "name": "stderr"
        },
        {
          "output_type": "stream",
          "text": [
            "\n",
            "\n"
          ],
          "name": "stdout"
        },
        {
          "output_type": "stream",
          "text": [
            "INFO:__main__: Analysing -> 'totalbedscovid'\n",
            "\n"
          ],
          "name": "stderr"
        }
      ]
    },
    {
      "cell_type": "markdown",
      "metadata": {
        "id": "WG3Yq8ufTCtQ"
      },
      "source": [
        "<br>\r\n",
        "<br>\r\n",
        "\r\n",
        "## Zip"
      ]
    },
    {
      "cell_type": "code",
      "metadata": {
        "id": "M13hb5SYTGkm"
      },
      "source": [
        "%%bash\r\n",
        "\r\n",
        "path=archives\r\n",
        "rm -rf $path\r\n",
        "mkdir $path\r\n",
        "\r\n",
        "# Sections that will be archived\r\n",
        "Array=('admissionstotal' 'admissions85' 'mvbeds' 'mvbedscovid' 'totalbeds' 'totalbedscovid')\r\n",
        "\r\n",
        "# Start\r\n",
        "echo \"starting ...\" &> zip.log\r\n",
        "\r\n",
        "# https://linux.die.net/man/1/zip\r\n",
        "# zip --junk-paths --recurse-paths ${path}/${focus}.zip warehouse/${focus}/ &>> zip.log\r\n",
        "for focus in ${Array[*]}\r\n",
        "do\r\n",
        "echo ${focus} &>> zip.log\r\n",
        "zip --recurse-paths ${path}/${focus}.zip warehouse/${focus}/ &>> zip.log\r\n",
        "echo -e '\\n' &>> zip.log\r\n",
        "done\r\n"
      ],
      "execution_count": 12,
      "outputs": []
    }
  ]
}